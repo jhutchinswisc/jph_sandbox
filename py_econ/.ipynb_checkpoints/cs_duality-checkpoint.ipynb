{
 "cells": [
  {
   "cell_type": "markdown",
   "metadata": {},
   "source": [
    "## Consumer Theory Duality using Python\n",
    "\n",
    "### This python script is for visualizing indifference curves and the duality properties of consumer theory in microeconomics.\n"
   ]
  },
  {
   "cell_type": "code",
   "execution_count": 9,
   "metadata": {
    "collapsed": false
   },
   "outputs": [],
   "source": [
    "import numpy as np\n",
    "import sympy as sm\n",
    "import matplotlib.pyplot as plt\n",
    "from sympy import init_printing\n",
    "from sympy.utilities import lambdify\n",
    "from sympy.parsing.sympy_parser import parse_expr\n",
    "from matplotlib.widgets import Slider, Button, RadioButtons\n",
    "init_printing()"
   ]
  },
  {
   "cell_type": "markdown",
   "metadata": {},
   "source": [
    "First, declare all the symbols used in the equation.  The equation, for now, accepts:\n",
    "- U - Utility\n",
    "- x,y - Two goods\n",
    "- a - A taste parameter for x.\n",
    "\n",
    "A combination of sympy parsing and lambdify takes text input and makes it into a functional form for an indifference curve.  The graph should be interactive, allowing the user to change the taste parameter to look at the effect on the indifference curve and visualize the role of $\\alpha$ in a Cobb-Douglas utility function."
   ]
  },
  {
   "cell_type": "markdown",
   "metadata": {},
   "source": [
    "### Cobb-Douglas example"
   ]
  },
  {
   "cell_type": "code",
   "execution_count": 99,
   "metadata": {
    "collapsed": false
   },
   "outputs": [
    {
     "data": {
      "image/png": "[encoded data removed]",
      "text/latex": [
       "$$\\left(U x^{- a}\\right)^{- \\frac{1}{a - 1}}$$"
      ],
      "text/plain": [
       "        -1  \n",
       "       ─────\n",
       "       a - 1\n",
       "⎛   -a⎞     \n",
       "⎝U⋅x  ⎠     "
      ]
     },
     "execution_count": 99,
     "metadata": {},
     "output_type": "execute_result"
    }
   ],
   "source": [
    "# Declare all symbols used in the equation and solve for y\n",
    "x, y, U,a= sm.symbols(\"x y U a\")\n",
    "u = \"x**a * y**(1-a)\"\n",
    "u= parse_expr(u)\n",
    "yexp= sm.solve(u-U,y)[0]\n",
    "yexp"
   ]
  },
  {
   "cell_type": "code",
   "execution_count": 63,
   "metadata": {
    "collapsed": false
   },
   "outputs": [],
   "source": [
    "y1 = lambdify([U,x,a],yexp)\n",
    "# now it takes number input in the order U, x, and a.\n",
    "y1(10,1,.5)"
   ]
  },
  {
   "cell_type": "code",
   "execution_count": 101,
   "metadata": {
    "collapsed": false
   },
   "outputs": [
    {
     "data": {
      "image/png": "[encoded data removed]",
      "text/latex": [
       "$$0$$"
      ],
      "text/plain": [
       "0"
      ]
     },
     "execution_count": 101,
     "metadata": {},
     "output_type": "execute_result"
    }
   ],
   "source": [
    "# interactive plot, based on http://matplotlib.org/examples/widgets/slider_demo.html\n",
    "\n",
    "# Set plot of IC\n",
    "fig,ax =plt.subplots()\n",
    "a0=.5\n",
    "u_grid = np.arange(10,25,5)\n",
    "xdom = np.arange(.5,30,.0001)\n",
    "l,= plt.plot(xdom,y1(u_grid[1],xdom,a0),lw=2,color='black')\n",
    "plt.ylim(0,100)\n",
    "\n",
    "# Set slider\n",
    "axcolor = 'lightgoldenrodyellow'\n",
    "axa = plt.axes([0.1, 0.01, 0.65, 0.03], axisbg=axcolor)\n",
    "salph  = Slider(axa, 'Alpha', 0.01, .99, valinit=a0)\n",
    "\n",
    "def update(val):\n",
    "    alph = salph.val\n",
    "    l.set_ydata(y1(u_grid[1],xdom,alph))\n",
    "    fig.canvas.draw_idle()\n",
    "salph.on_changed(update)\n",
    "\n",
    "# the reset button doesnt work yet\n",
    "\n",
    "#resetax = plt.axes([0.8, 0.025, 0.1, 0.04])\n",
    "#button = Button(resetax, 'Reset', color=axcolor, hovercolor='0.975')\n",
    "\n",
    "#def reset(event):\n",
    "#    alph.reset()\n",
    "#button.on_clicked(reset)"
   ]
  },
  {
   "cell_type": "code",
   "execution_count": 102,
   "metadata": {
    "collapsed": false,
    "scrolled": true
   },
   "outputs": [],
   "source": [
    "plt.show()"
   ]
  },
  {
   "cell_type": "markdown",
   "metadata": {},
   "source": [
    "### Next steps\n",
    "- Introduce the budget line in a function and solve for the indirect utility function to plot the indifference curve tangent to its budget line.\n",
    "- Label the optimal choice bundle on the graph and make it change with the slider.\n",
    "- Have two sliders, one for each price of x and y."
   ]
  },
  {
   "cell_type": "code",
   "execution_count": null,
   "metadata": {
    "collapsed": true
   },
   "outputs": [],
   "source": []
  }
 ],
 "metadata": {
  "kernelspec": {
   "display_name": "Python 3",
   "language": "python",
   "name": "python3"
  },
  "language_info": {
   "codemirror_mode": {
    "name": "ipython",
    "version": 3
   },
   "file_extension": ".py",
   "mimetype": "text/x-python",
   "name": "python",
   "nbconvert_exporter": "python",
   "pygments_lexer": "ipython3",
   "version": "3.5.0"
  }
 },
 "nbformat": 4,
 "nbformat_minor": 0
}
